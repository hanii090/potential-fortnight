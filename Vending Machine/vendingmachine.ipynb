{
 "cells": [
  {
   "cell_type": "code",
   "execution_count": 1,
   "metadata": {},
   "outputs": [],
   "source": [
    "# Import libraries\n",
    "import ipywidgets as widgets\n",
    "from IPython.display import display, clear_output\n",
    "\n",
    "# Item prices, quantities, and capacities\n",
    "item_data = {\n",
    "    'soda': {'price': 1.50, 'quantity': 5, 'capacity': 10},\n",
    "    'chips': {'price': 1.00, 'quantity': 10, 'capacity': 20},\n",
    "    'chocolate': {'price': 2.00, 'quantity': 7, 'capacity': 15}\n",
    "}\n"
   ]
  },
  {
   "cell_type": "code",
   "execution_count": 2,
   "metadata": {},
   "outputs": [],
   "source": [
    "# Function to display available items and their details\n",
    "def display_items():\n",
    "    print(\"Available Items:\")\n",
    "    for item, data in item_data.items():\n",
    "        print(f\"{item.capitalize()}: ${data['price']:.2f} | Quantity: {data['quantity']} / {data['capacity']}\")\n",
    "\n",
    "# Function to refill an item's quantity\n",
    "def refill_item(item, quantity):\n",
    "    if item in item_data:\n",
    "        current_quantity = item_data[item]['quantity']\n",
    "        capacity = item_data[item]['capacity']\n",
    "        item_data[item]['quantity'] = min(current_quantity + quantity, capacity)\n",
    "        print(f\"Refilled {item.capitalize()} by {quantity}. New quantity: {item_data[item]['quantity']} / {capacity}\")\n",
    "    else:\n",
    "        print(\"Invalid item.\")\n",
    "\n",
    "# Function to simulate the purchase process\n",
    "def purchase_item(item, amount):\n",
    "    if item in item_data:\n",
    "        price = item_data[item]['price']\n",
    "        quantity = item_data[item]['quantity']\n",
    "        if quantity > 0:\n",
    "            if amount >= price:\n",
    "                item_data[item]['quantity'] -= 1\n",
    "                change = amount - price\n",
    "                print(f\"Enjoy your {item.capitalize()}! Change: ${change:.2f}\")\n",
    "            else:\n",
    "                print(\"Insufficient funds.\")\n",
    "        else:\n",
    "            print(f\"{item.capitalize()} is out of stock.\")\n",
    "    else:\n",
    "        print(\"Item not available.\")\n"
   ]
  },
  {
   "cell_type": "code",
   "execution_count": 3,
   "metadata": {},
   "outputs": [
    {
     "data": {
      "application/vnd.jupyter.widget-view+json": {
       "model_id": "410d1382f7b94388b8000ddc9b1a1eae",
       "version_major": 2,
       "version_minor": 0
      },
      "text/plain": [
       "Dropdown(description='Item:', options=('soda', 'chips', 'chocolate'), value='soda')"
      ]
     },
     "metadata": {},
     "output_type": "display_data"
    },
    {
     "data": {
      "application/vnd.jupyter.widget-view+json": {
       "model_id": "ec791a6a7dde4363bee6a84aa6d8e7ee",
       "version_major": 2,
       "version_minor": 0
      },
      "text/plain": [
       "FloatText(value=0.0, description='Amount:')"
      ]
     },
     "metadata": {},
     "output_type": "display_data"
    },
    {
     "data": {
      "application/vnd.jupyter.widget-view+json": {
       "model_id": "4f7bd81d881a44628920f5bec41c156d",
       "version_major": 2,
       "version_minor": 0
      },
      "text/plain": [
       "Dropdown(description='Action:', options=('Purchase', 'Refill'), value='Purchase')"
      ]
     },
     "metadata": {},
     "output_type": "display_data"
    },
    {
     "data": {
      "application/vnd.jupyter.widget-view+json": {
       "model_id": "f848d4f6b48e47af997777de20c01fc2",
       "version_major": 2,
       "version_minor": 0
      },
      "text/plain": [
       "Button(description='Perform Action', style=ButtonStyle())"
      ]
     },
     "metadata": {},
     "output_type": "display_data"
    },
    {
     "data": {
      "application/vnd.jupyter.widget-view+json": {
       "model_id": "e85ad251034a4214a0c896e33c4efe53",
       "version_major": 2,
       "version_minor": 0
      },
      "text/plain": [
       "Output()"
      ]
     },
     "metadata": {},
     "output_type": "display_data"
    }
   ],
   "source": [
    "# Create widgets for user input\n",
    "item_dropdown = widgets.Dropdown(options=list(item_data.keys()), description='Item:')\n",
    "amount_text = widgets.FloatText(description='Amount:')\n",
    "action_dropdown = widgets.Dropdown(options=['Purchase', 'Refill'], description='Action:')\n",
    "\n",
    "# Create a button to perform the action\n",
    "action_button = widgets.Button(description='Perform Action')\n",
    "output_text = widgets.Output()\n",
    "\n",
    "# Define function to handle button click\n",
    "def action_button_click(change):\n",
    "    with output_text:\n",
    "        item = item_dropdown.value\n",
    "        amount = amount_text.value\n",
    "        action = action_dropdown.value\n",
    "        \n",
    "        if action == 'Purchase':\n",
    "            purchase_item(item, amount)\n",
    "        elif action == 'Refill':\n",
    "            refill_item(item, int(amount)) # type: ignore\n",
    "\n",
    "# Attach function to button click event\n",
    "action_button.on_click(action_button_click)\n",
    "\n",
    "# Display widgets\n",
    "display(item_dropdown, amount_text, action_dropdown, action_button, output_text)\n"
   ]
  }
 ],
 "metadata": {
  "kernelspec": {
   "display_name": "Python 3",
   "language": "python",
   "name": "python3"
  },
  "language_info": {
   "codemirror_mode": {
    "name": "ipython",
    "version": 3
   },
   "file_extension": ".py",
   "mimetype": "text/x-python",
   "name": "python",
   "nbconvert_exporter": "python",
   "pygments_lexer": "ipython3",
   "version": "3.11.4"
  },
  "orig_nbformat": 4
 },
 "nbformat": 4,
 "nbformat_minor": 2
}
