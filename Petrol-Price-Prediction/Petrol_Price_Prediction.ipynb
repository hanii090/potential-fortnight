{
  "cells": [
    {
      "attachments": {},
      "cell_type": "markdown",
      "metadata": {
        "id": "qzbwAsKxCN2S"
      },
      "source": [
        "# Petrol Price Prediction"
      ]
    },
    {
      "attachments": {},
      "cell_type": "markdown",
      "metadata": {
        "id": "QJsjVoAmCSbu"
      },
      "source": [
        "Importing Libaries"
      ]
    },
    {
      "cell_type": "code",
      "execution_count": 1,
      "metadata": {
        "id": "pBHn2YQc-NJJ"
      },
      "outputs": [],
      "source": [
        "import numpy as np\n",
        "import pandas as pd\n",
        "import matplotlib.pyplot as plt\n",
        "import seaborn as sns\n",
        "from sklearn.model_selection import train_test_split\n",
        "from sklearn.ensemble import RandomForestRegressor\n",
        "from sklearn import metrics"
      ]
    },
    {
      "attachments": {},
      "cell_type": "markdown",
      "metadata": {
        "id": "h1-MD_yoChST"
      },
      "source": [
        "Data Collection and Processing"
      ]
    },
    {
      "cell_type": "code",
      "execution_count": 2,
      "metadata": {
        "id": "y6Ej_2RACjrq"
      },
      "outputs": [],
      "source": [
        "# Loading data from a csv\n",
        "usd_pkr = pd.read_csv('Datasets/PKR _ US$ Exchange Rates.csv')\n",
        "petrol_price = pd.read_csv('Datasets/Petrol Price.csv')"
      ]
    },
    {
      "cell_type": "code",
      "execution_count": null,
      "metadata": {
        "colab": {
          "base_uri": "https://localhost:8080/",
          "height": 206
        },
        "id": "n07RyId0NPoQ",
        "outputId": "b9ffb8cf-88fc-4a76-cf56-9761ab606a06"
      },
      "outputs": [],
      "source": [
        "# Petrol Price\n",
        "petrol_price.head()"
      ]
    },
    {
      "cell_type": "code",
      "execution_count": null,
      "metadata": {
        "colab": {
          "base_uri": "https://localhost:8080/",
          "height": 206
        },
        "id": "DDMO_qPsNW03",
        "outputId": "b8193d41-10a7-45a0-a193-c7bcd274c5ba"
      },
      "outputs": [],
      "source": [
        "# USD - PKR\n",
        "usd_pkr.head()"
      ]
    },
    {
      "cell_type": "code",
      "execution_count": null,
      "metadata": {
        "colab": {
          "base_uri": "https://localhost:8080/"
        },
        "id": "mq8VtDN8NoDe",
        "outputId": "c8189361-1d32-4da7-eecc-a6a6a706e9ef"
      },
      "outputs": [],
      "source": [
        "# Merging datasets with required values\n",
        "# Fixing the date problem\n",
        "usd_pkr[\"Date\"] = pd.to_datetime(usd_pkr['Date'])\n",
        "petrol_price['Weekly'] = pd.to_datetime(petrol_price['Weekly'])\n",
        "\n",
        "usd_pkr[\"Petrol_Price\"] = usd_pkr[\"Date\"].apply(lambda date: petrol_price.loc[petrol_price[\"Weekly\"].sub(date).abs().idxmin(), \"Karachi\"])\n",
        "usd_pkr['Petrol_Price'][:3] = 273.95\n",
        "\n",
        "petrol_price_pred = pd.DataFrame(usd_pkr)"
      ]
    },
    {
      "cell_type": "code",
      "execution_count": null,
      "metadata": {
        "colab": {
          "base_uri": "https://localhost:8080/",
          "height": 206
        },
        "id": "Yy4KSrfWVsHq",
        "outputId": "7d88ae43-8ec8-49ec-9745-12ed231e38f4"
      },
      "outputs": [],
      "source": [
        "# Merged Data Frame\n",
        "petrol_price_pred.head()"
      ]
    },
    {
      "cell_type": "code",
      "execution_count": null,
      "metadata": {
        "colab": {
          "base_uri": "https://localhost:8080/"
        },
        "id": "2mJTRBm7Go-1",
        "outputId": "48e683c5-63ed-42fe-ae6e-52a163b70ddc"
      },
      "outputs": [],
      "source": [
        "# Checking the info\n",
        "petrol_price_pred.info()"
      ]
    },
    {
      "cell_type": "code",
      "execution_count": null,
      "metadata": {
        "colab": {
          "base_uri": "https://localhost:8080/"
        },
        "id": "8d5W70lsJkU8",
        "outputId": "525ffab7-dfb6-4286-aaaa-9ce631cf0776"
      },
      "outputs": [],
      "source": [
        "# Checking missing values\n",
        "petrol_price_pred.isnull().sum()"
      ]
    },
    {
      "cell_type": "code",
      "execution_count": null,
      "metadata": {
        "colab": {
          "base_uri": "https://localhost:8080/",
          "height": 300
        },
        "id": "OWSAEc1gJqGy",
        "outputId": "403f0799-c83d-4685-c6be-03d52597a2a6"
      },
      "outputs": [],
      "source": [
        "# Checking the statistics\n",
        "petrol_price_pred.describe()"
      ]
    },
    {
      "attachments": {},
      "cell_type": "markdown",
      "metadata": {
        "id": "XNq2_qGDKKxF"
      },
      "source": [
        "Correlation\n",
        "\n",
        "1.   Positive Correlation\n",
        "2.   Negative Correlation\n",
        "\n"
      ]
    },
    {
      "cell_type": "code",
      "execution_count": null,
      "metadata": {
        "colab": {
          "base_uri": "https://localhost:8080/",
          "height": 730
        },
        "id": "yN1lFaEyJ_Wi",
        "outputId": "5e17a51d-2828-4d34-b4e8-56639c5fd713"
      },
      "outputs": [],
      "source": [
        "# Finding the correlation\n",
        "correlation = petrol_price_pred.corr()\n",
        "\n",
        "# constructing heatmap\n",
        "plt.figure(figsize = (8,8))\n",
        "sns.heatmap(correlation, cbar=True, square=True, fmt='.1f', annot=True, annot_kws={'size':8}, cmap='Reds')"
      ]
    },
    {
      "cell_type": "code",
      "execution_count": null,
      "metadata": {
        "colab": {
          "base_uri": "https://localhost:8080/"
        },
        "id": "yCC3TUC1LYCu",
        "outputId": "c300700e-38ec-4cbd-cf8c-984a7609192e"
      },
      "outputs": [],
      "source": [
        "# Correlation Values of Petrol\n",
        "print(correlation['Petrol_Price'])"
      ]
    },
    {
      "cell_type": "code",
      "execution_count": null,
      "metadata": {
        "colab": {
          "base_uri": "https://localhost:8080/",
          "height": 658
        },
        "id": "nvI4v3jsWzFM",
        "outputId": "d6b7cf05-d6f9-4ced-9a70-f5616a4c2fed"
      },
      "outputs": [],
      "source": [
        "# Checking the distribution\n",
        "sns.distplot(petrol_price_pred['Petrol_Price'], color='Red')"
      ]
    },
    {
      "attachments": {},
      "cell_type": "markdown",
      "metadata": {
        "id": "cpXWS2uNaGwt"
      },
      "source": [
        "Splitting the Features and Targets"
      ]
    },
    {
      "cell_type": "code",
      "execution_count": null,
      "metadata": {
        "colab": {
          "base_uri": "https://localhost:8080/"
        },
        "id": "ZR06xzdFXJNa",
        "outputId": "09d2eb2d-1b32-40b1-b6ff-0abe7cf66289"
      },
      "outputs": [],
      "source": [
        "X = petrol_price_pred.drop(['Date', 'Petrol_Price'], axis=1)\n",
        "Y = petrol_price_pred['Petrol_Price']\n",
        "\n",
        "print(X, Y)"
      ]
    },
    {
      "attachments": {},
      "cell_type": "markdown",
      "metadata": {
        "id": "c0Ko3XWJHbEf"
      },
      "source": [
        "Splitting into training and test data"
      ]
    },
    {
      "cell_type": "code",
      "execution_count": null,
      "metadata": {
        "colab": {
          "base_uri": "https://localhost:8080/",
          "height": 75
        },
        "id": "3IOzc_Kvaznd",
        "outputId": "1f8a7a4e-20e3-490c-e8fe-d238d6c637b6"
      },
      "outputs": [],
      "source": [
        "# Training Data\n",
        "X_train, X_test, Y_train, Y_test = train_test_split(X, Y, test_size=0.2, random_state=2)\n",
        "\n",
        "# Model Training\n",
        "regressor = RandomForestRegressor(n_estimators=100)\n",
        "regressor.fit(X_train, Y_train)"
      ]
    },
    {
      "attachments": {},
      "cell_type": "markdown",
      "metadata": {
        "id": "sQeuZiV_I3V6"
      },
      "source": [
        "Model Evaluation"
      ]
    },
    {
      "cell_type": "code",
      "execution_count": null,
      "metadata": {
        "colab": {
          "base_uri": "https://localhost:8080/"
        },
        "id": "8nSaPrcGIFBs",
        "outputId": "ac5db193-9c70-4e8d-c718-5e658f166ab7"
      },
      "outputs": [],
      "source": [
        "# Prediction on test data\n",
        "test_data_pred = regressor.predict(X_test)\n",
        "test_data_pred"
      ]
    },
    {
      "cell_type": "code",
      "execution_count": null,
      "metadata": {
        "colab": {
          "base_uri": "https://localhost:8080/"
        },
        "id": "nl0G0RR0I09O",
        "outputId": "a5798b1f-4d03-438e-cba5-881430aaf52d"
      },
      "outputs": [],
      "source": [
        "# R-squared Error\n",
        "error_score = metrics.r2_score(Y_test, test_data_pred)\n",
        "print('R-squared error: ', error_score)"
      ]
    },
    {
      "attachments": {},
      "cell_type": "markdown",
      "metadata": {
        "id": "AyGuakZyKDaC"
      },
      "source": [
        "Comparing the actual values with predicted values in a Plot"
      ]
    },
    {
      "cell_type": "code",
      "execution_count": null,
      "metadata": {
        "colab": {
          "base_uri": "https://localhost:8080/",
          "height": 472
        },
        "id": "XDW1bWgjJwCJ",
        "outputId": "ab0e6c84-a24c-45fc-8bec-bf666d3fc7d5"
      },
      "outputs": [],
      "source": [
        "# Converting to a list\n",
        "Y_test = list(Y_test)\n",
        "\n",
        "# Time to plot\n",
        "plt.plot(Y_test, color='Blue', label='Actual Value')\n",
        "plt.plot(test_data_pred, color='Green', label='Predicted Value')\n",
        "plt.title('Acutal Price VS Predicted Price')\n",
        "plt.xlabel('No. of values')\n",
        "plt.ylabel('Petrol Price')\n",
        "plt.legend()\n",
        "plt.show()"
      ]
    },
    {
      "cell_type": "code",
      "execution_count": null,
      "metadata": {
        "id": "3J1zlc2IKwRi"
      },
      "outputs": [],
      "source": []
    }
  ],
  "metadata": {
    "colab": {
      "provenance": []
    },
    "kernelspec": {
      "display_name": "Python 3",
      "name": "python3"
    },
    "language_info": {
      "codemirror_mode": {
        "name": "ipython",
        "version": 3
      },
      "file_extension": ".py",
      "mimetype": "text/x-python",
      "name": "python",
      "nbconvert_exporter": "python",
      "pygments_lexer": "ipython3",
      "version": "3.11.4"
    }
  },
  "nbformat": 4,
  "nbformat_minor": 0
}
